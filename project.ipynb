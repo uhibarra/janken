{
 "cells": [
  {
   "cell_type": "code",
   "execution_count": 2,
   "metadata": {},
   "outputs": [
    {
     "name": "stdout",
     "output_type": "stream",
     "text": [
      "Let's play Rock Paper Scissors!\n",
      "What's your name? ulises\n",
      "Hey, Ulises! Input your command!\n",
      "Rules, play, or quit: rules\n",
      "The game is played where players deliver hand signals that will represent the elements of the game; rock, paper and scissors.\n",
      "The outcome of the game is determined by 3 simple rules:\n",
      "Rock wins against scissors.\n",
      "Scissors win against paper.\n",
      "Paper wins against rock.\n",
      "Hey, Ulises! Input your command!\n",
      "Rules, play, or quit: play\n",
      "Choose your weapon. Rock/Paper/Scissors: rock\n",
      "You lose...\n",
      "Score:\n",
      "Win: 0 - Lose: 1 - Draw: 0\n",
      "Play again? Y/N y\n",
      "Choose your weapon. Rock/Paper/Scissors: rock\n",
      "Tie!\n",
      "Score:\n",
      "Win: 0 - Lose: 1 - Draw: 1\n",
      "Play again? Y/N n\n",
      "Hey, Ulises! Input your command!\n",
      "Rules, play, or quit: quit\n"
     ]
    }
   ],
   "source": [
    "from rock import janken\n",
    "\n",
    "janken()"
   ]
  }
 ],
 "metadata": {
  "kernelspec": {
   "display_name": "Python 3 (ipykernel)",
   "language": "python",
   "name": "python3"
  },
  "language_info": {
   "codemirror_mode": {
    "name": "ipython",
    "version": 3
   },
   "file_extension": ".py",
   "mimetype": "text/x-python",
   "name": "python",
   "nbconvert_exporter": "python",
   "pygments_lexer": "ipython3",
   "version": "3.9.7"
  }
 },
 "nbformat": 4,
 "nbformat_minor": 2
}
